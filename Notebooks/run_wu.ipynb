{
 "cells": [
  {
   "cell_type": "code",
   "execution_count": 86,
   "metadata": {},
   "outputs": [],
   "source": [
    "import scipy.stats as stats\n",
    "from scipy import interpolate\n",
    "import numpy as np\n",
    "import pandas as pd\n",
    "import os\n",
    "import math"
   ]
  },
  {
   "cell_type": "code",
   "execution_count": 87,
   "metadata": {},
   "outputs": [],
   "source": [
    "######################## Input parameters #########################\n",
    "files = 200\n",
    "points = 100000\n",
    "case = 'case_c'   #case_a, case_b, case_c\n",
    "\n",
    "athm_pr = 100000                           # [Pa]\n",
    "dm = 3.8E-10                               # [-]\n",
    "R = 8.314462                               # [J/(mol - K)]\n",
    "M = 1.6E-2                                 # [kg/mol]\n",
    "Na = 6.0221415E23                          # [1/mol]\n",
    "b = -1\n",
    "dpdl = 0.1                                 # [MPa/m]"
   ]
  },
  {
   "cell_type": "code",
   "execution_count": 88,
   "metadata": {},
   "outputs": [],
   "source": [
    "def wu(pars, f_z, f_vis, f_cg, f_rho):\n",
    "    p = pars[0]                             # [Pa]\n",
    "    ro = pars[1]                            # [m]\n",
    "    por = pars[2]                           # [-]\n",
    "    tor = pars[3]                           # [-]\n",
    "    op = pars[4]                            # [Pa]\n",
    "    q = pars[5]                             # [-]\n",
    "    t = pars[6]                             # [-]\n",
    "    k = pars[7]                             # [-]\n",
    "    fd = pars[8]                            # [-]\n",
    "    ih = pars[9]                            # [J/mol]\n",
    "    lp0 = pars[10]                          # [Pa]\n",
    "    a0 = pars[11]                           # [-]\n",
    "    a1 = pars[12]                           # [-]\n",
    "    beta = pars[13]                         # [-]\n",
    "    T = pars[14]                            # [K]\n",
    "\n",
    "    Z = interpolate.bisplev(p,T,f_z)\n",
    "    vis = interpolate.bisplev(p,T,f_vis)\n",
    "    rho = interpolate.bisplev(p,T,f_rho)\n",
    "    cg = f_cg(p)\n",
    "    dzdp = (interpolate.bisplev(p+10000,T,f_z)-interpolate.bisplev(p-10000,T,f_z))/20000\n",
    "    \n",
    "    porosity = por*((op-p)/athm_pr)**-q  \n",
    "    radius = ro*((op-p)/athm_pr)**-t \n",
    "    kn = (vis/(p*2*radius))*(math.pi*Z*R*T/(2*M))**0.5\n",
    "    wv = 1/(1+kn)\n",
    "    wk = 1-wv\n",
    "    lp = lp0 * math.exp(-ih/(R*T))\n",
    "    theta = (p/Z)/(lp+p/Z)\n",
    "    rad = theta*dm    ####AAAAAAAAAAAAAAAAAAAAAAAAA\n",
    "    fc1 = (porosity/tor)*(1-rad/radius)**2\n",
    "    fc2 = fc1 * (((1-rad/radius)**-2)-1)\n",
    "    alpha = a0*2*math.atan(a1*kn**beta)/math.pi \n",
    "    B1 = wv*fc1*radius**2*p*M*(1+alpha*kn)*(1+4*kn/(1-b*kn))/(8*vis*Z*R*T)\n",
    "    B2 = wk*fc1*2*radius*(dm/radius)**(fd-2)*((8*Z*M/(math.pi*R*T))**0.5)*p*cg/(3*Z)\n",
    "    if k>=1:\n",
    "        gam = 0\n",
    "    else:\n",
    "        gam = 1 \n",
    "    ds0 = 8.29E-7 * T**0.5 * math.exp(-ih**0.8/(R*T)) # m2/s\n",
    "    ds = ds0 * ((1-theta) + 0.5*k*theta*(2-theta) + gam*0.5*k*(1-k)*(theta**2))/((1-theta+0.5*k*theta)**2) # m2/s\n",
    "    Csc = 4*theta*M/(math.pi*dm**3*Na) # kg*mol/mol*m^3    kg/m^3\n",
    "    B3 = fc2*ds*Csc/(p) # m^2*kg*s^2*m^2/s*m^3*kg*m = s\n",
    "    D1 = (B1*R/M)/(1/(T*Z)+p*dzdp/(T*Z**2))\n",
    "    D2 = (B2*R/M)/(1/(T*Z)+p*dzdp/(T*Z**2))\n",
    "    D3 = (B3*R/M)/(1/(T*Z)+p*dzdp/(T*Z**2))\n",
    "    DT = D1+D2+D3\n",
    "    J = (B1+B2+B3)*dpdl*86400*365/1000\n",
    "    return (B1, B2, B3, J, D1, D2, D3, DT, kn, dzdp, Z, cg, vis, rho)\n",
    "\n",
    "# J [Ton/m2/year]\n",
    "# vis [Pa*s]"
   ]
  },
  {
   "cell_type": "code",
   "execution_count": 89,
   "metadata": {},
   "outputs": [],
   "source": [
    "########### Be sure where to start #############\n",
    "existing_files = 0\n",
    "for file in os.listdir('../Results/model_eval/'+case+'/.'):\n",
    "    if file.startswith('wu_eval_'):\n",
    "        existing_files += 1"
   ]
  },
  {
   "cell_type": "code",
   "execution_count": 90,
   "metadata": {},
   "outputs": [],
   "source": [
    "########### Interpolate the state equation #############\n",
    "properties = pd.read_csv('../z,cg,n.csv', delimiter=';')\n",
    "p = properties['P(MPa)'].values*1000000\n",
    "t = properties['T(K)'].values\n",
    "f_z = interpolate.bisplrep(p, t, properties['Z'].values, s=2)\n",
    "f_rho = interpolate.bisplrep(p, t, properties['Density(kg/m3)'].values, s=2)\n",
    "f_vis = interpolate.bisplrep(p, t, properties['Viscosity(uPa-s)'].values/1000000, s=2)\n",
    "f_cg = interpolate.interp1d(p, properties['cg(1/Mpa)'].values/1000000)"
   ]
  },
  {
   "cell_type": "code",
   "execution_count": 91,
   "metadata": {},
   "outputs": [],
   "source": [
    "########### Create variability ranges #############\n",
    "var_ranges = pd.read_csv('../variability_ranges.csv').set_index('Variable')\n",
    "lower_lim = var_ranges['Min'].values\n",
    "upper_lim = var_ranges['Max'].values\n",
    "mean_val = (var_ranges['Max'].values + var_ranges['Min'].values)/2\n",
    "std_val = (var_ranges['Max'].values - var_ranges['Min'].values)/math.sqrt(12)"
   ]
  },
  {
   "cell_type": "code",
   "execution_count": 92,
   "metadata": {},
   "outputs": [],
   "source": [
    "# import matplotlib.pyplot as plt\n",
    "\n",
    "# rand_radius_uniform = np.random.uniform(low=lower_lim[1], high=upper_lim[1], size=(points))\n",
    "# rand_radius_normal = stats.truncnorm((lower_lim[1]-mean_val[1])/(std_val[1]), (upper_lim[1]-mean_val[1])/(std_val[1]), loc=mean_val[1], scale=(std_val[1])).rvs((points))\n",
    "\n",
    "# rand_radius_ln_old = np.random.lognormal(mean = -18.165, sigma = 1.01, size = int(points*1.4))\n",
    "# rand_radius_ln_new = stats.lognorm.rvs(math.sqrt(math.log(1 + ((std_val[1])/(mean_val[1]))**2)), 0, (mean_val[1])/math.sqrt(1 + ((std_val[1])/(mean_val[1]))**2),  int(points*1.4))\n",
    "# rand_radius_trunc_old = rand_radius_ln_old[np.where((rand_radius_ln_old >= lower_lim[1]) & (rand_radius_ln_old < upper_lim[1]))][:points]\n",
    "# rand_radius_trunc_new = rand_radius_ln_new[np.where((rand_radius_ln_new >= lower_lim[1]) & (rand_radius_ln_new < upper_lim[1]))][:points]\n",
    "\n",
    "# scale = np.logspace(-10,-6,100)\n",
    "# scale = np.linspace(1E-9,1E-7,100)\n",
    "# plt.hist(rand_radius_trunc_new, bins=scale, density=True, label = 'truncated_new', histtype = 'step')\n",
    "# plt.hist(rand_radius_uniform, bins=scale, density=True, label = 'uniform', histtype = 'step')\n",
    "# plt.hist(rand_radius_normal, bins=scale, density=True, label = 'normal', histtype = 'step')\n",
    "# # plt.xscale('log')\n",
    "# plt.legend()\n",
    "\n",
    "# print('uniform')\n",
    "# print(np.mean(rand_radius_uniform))\n",
    "# print(np.std(rand_radius_uniform))\n",
    "\n",
    "# print('normal')\n",
    "# print(np.mean(rand_radius_normal))\n",
    "# print(np.std(rand_radius_normal))\n",
    "\n",
    "# print('truncated_new')\n",
    "# print(np.mean(rand_radius_trunc_new))\n",
    "# print(np.std(rand_radius_trunc_new))"
   ]
  },
  {
   "cell_type": "code",
   "execution_count": 93,
   "metadata": {},
   "outputs": [],
   "source": [
    "for n_file in range(existing_files,existing_files+files):\n",
    "    outputs = np.zeros((points, 29))\n",
    "    if case == 'case_a':\n",
    "        rand_points = np.random.uniform(low=lower_lim, high=upper_lim, size=(points, len(var_ranges)))\n",
    "    if case == 'case_b':\n",
    "        rand_points = stats.truncnorm((lower_lim-mean_val)/std_val, (upper_lim-mean_val)/std_val, loc=mean_val, scale=std_val).rvs((points, len(var_ranges)))\n",
    "    if case == 'case_c':\n",
    "        ### Incredibly complicated!! https://stackoverflow.com/questions/8870982/how-do-i-get-a-lognormal-distribution-in-python-with-mu-and-sigma/36714419#36714419\n",
    "        rand_points = np.random.uniform(low=lower_lim, high=upper_lim, size=(points, len(var_ranges)))\n",
    "        rand_radius = np.random.lognormal(mean = -18.165, sigma = 1.01, size = int(points*1.4))\n",
    "        # rand_radius = stats.lognorm.rvs(math.sqrt(math.log(1 + ((std_val[1])/(mean_val[1]))**2)), 0, (mean_val[1])/math.sqrt(1 + ((std_val[1])/(mean_val[1]))**2),  int(points*1.4))\n",
    "        rand_points[:,1] = rand_radius[np.where((rand_radius >= lower_lim[1]) & (rand_radius < upper_lim[1]))][:points]\n",
    "\n",
    "    for i in range(points):\n",
    "        outputs[i,0:15] = rand_points[i,:]\n",
    "        results = wu(rand_points[i,:],f_z,f_vis,f_cg,f_rho)\n",
    "        outputs[i,15:] = results\n",
    "\n",
    "    np.save('../Results/model_eval/'+case+'/wu_eval_'+str(n_file), outputs)\n"
   ]
  }
 ],
 "metadata": {
  "kernelspec": {
   "display_name": "Python 3",
   "language": "python",
   "name": "python3"
  },
  "language_info": {
   "codemirror_mode": {
    "name": "ipython",
    "version": 3
   },
   "file_extension": ".py",
   "mimetype": "text/x-python",
   "name": "python",
   "nbconvert_exporter": "python",
   "pygments_lexer": "ipython3",
   "version": "3.10.11"
  },
  "orig_nbformat": 4
 },
 "nbformat": 4,
 "nbformat_minor": 2
}
