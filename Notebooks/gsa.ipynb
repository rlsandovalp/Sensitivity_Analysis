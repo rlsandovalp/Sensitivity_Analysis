{
 "cells": [
  {
   "cell_type": "code",
   "execution_count": 29,
   "metadata": {},
   "outputs": [],
   "source": [
    "import numpy as np\n",
    "from scipy.stats import skew, kurtosis"
   ]
  },
  {
   "cell_type": "code",
   "execution_count": 35,
   "metadata": {},
   "outputs": [],
   "source": [
    "######################## Input parameters #########################\n",
    "files = 200\n",
    "case = 'case_a'\n",
    "nclass = 20"
   ]
  },
  {
   "cell_type": "code",
   "execution_count": 36,
   "metadata": {},
   "outputs": [],
   "source": [
    "points_per_file = 100000\n",
    "data = np.zeros((points_per_file*files, 29))\n",
    "\n",
    "######################## Read files and join them in only one array #########################\n",
    "for j in range(files):\n",
    "    data_file = np.load('../Results/model_eval/'+case+'/wu_eval_'+str(j)+\".npy\")\n",
    "    data[j*points_per_file:(j+1)*points_per_file,:] = data_file\n",
    "\n",
    "Sampling_Points = data[:,0:15]\n",
    "output = 'k'\n",
    "Results = data[:,18]*data[:,27]/(0.1*data[:,28])\n",
    "# output = 'J'\n",
    "# Results = data[:,18]"
   ]
  },
  {
   "cell_type": "code",
   "execution_count": 37,
   "metadata": {},
   "outputs": [
    {
     "name": "stdout",
     "output_type": "stream",
     "text": [
      "Mean  1.0311170782908638e-13\n",
      "Var  1.3764694354068975e-26\n",
      "Skew  2.390186623344885\n",
      "Kurt  29.48170414691884\n"
     ]
    }
   ],
   "source": [
    "print('Mean ', np.mean(Results))\n",
    "print('Var ', np.var(Results))\n",
    "print('Skew ', skew(Results))\n",
    "print('Kurt ', 3 + kurtosis(Results))\n",
    "\n",
    "cond_mean=np.zeros((15,nclass))\n",
    "cond_var=np.zeros((15,nclass))\n",
    "cond_skew=np.zeros((15,nclass))\n",
    "cond_kurt=np.zeros((15,nclass))\n",
    "\n",
    "AMAE=np.zeros(15)\n",
    "AMAV=np.zeros(15)\n",
    "Si=np.zeros(15)\n",
    "AMAskew=np.zeros(15)\n",
    "AMAkurt=np.zeros(15)\n",
    "\n",
    "Output = np.zeros((points_per_file*files,2))"
   ]
  },
  {
   "cell_type": "code",
   "execution_count": 38,
   "metadata": {},
   "outputs": [],
   "source": [
    "for par in range(15):\n",
    "    Output[:,0] = Sampling_Points[:,par]\n",
    "    Output[:,1] = Results\n",
    "    par_min = Sampling_Points[:,par].min()\n",
    "    par_max = Sampling_Points[:,par].max()\n",
    "    dpar = (par_max-par_min)/nclass\n",
    "\n",
    "    for iclass in range (0,nclass):\n",
    "        output_class = (Output[(Output[:,0]<par_min+dpar*(iclass+1)) & (Output[:,0]>par_min+dpar*iclass)])[:,1]\n",
    "        cond_mean[par,iclass]=np.mean(output_class)\n",
    "        cond_var[par,iclass]=np.var(output_class)\n",
    "        cond_skew[par,iclass]=skew(np.reshape(output_class,-1))\n",
    "        cond_kurt[par,iclass]=3+kurtosis(np.reshape(output_class,-1))\n",
    "\n",
    "    Si[par]=(np.var(cond_mean[par,:],ddof=1))/np.var(Output[:,1])\n",
    "    AMAE[par]=np.mean(abs(cond_mean[par,:]-np.mean(Output[:,1])))/abs(np.mean(Output[:,1]))\n",
    "    AMAV[par]=np.mean(abs(cond_var[par,:]-np.var(Output[:,1])))/abs(np.var(Output[:,1]))\n",
    "    AMAskew[par]=np.mean(abs(cond_skew[par,:]-skew(np.reshape(Output[:,1],-1))))/abs(skew(np.reshape(Output[:,1],-1)))\n",
    "    AMAkurt[par]=np.mean(abs(cond_kurt[par,:]-(3+kurtosis(np.reshape(Output[:,1],-1)))))/abs((3+kurtosis(np.reshape(Output[:,1],-1))))\n",
    "\n",
    "np.savetxt('../Results/SA/'+output+'/'+case+'/AMA.txt',(AMAE,AMAV,AMAskew,AMAkurt,Si))\n",
    "np.savetxt('../Results/SA/'+output+'/'+case+'/CM.txt',cond_mean)\n",
    "np.savetxt('../Results/SA/'+output+'/'+case+'/CV.txt',cond_var)\n",
    "np.savetxt('../Results/SA/'+output+'/'+case+'/CS.txt',cond_skew)\n",
    "np.savetxt('../Results/SA/'+output+'/'+case+'/CK.txt',cond_kurt)\n",
    "np.savetxt('../Results/SA/'+output+'/'+case+'/SM.txt',[np.mean(Results), np.var(Results), skew(Results), 3 + kurtosis(Results)])"
   ]
  }
 ],
 "metadata": {
  "kernelspec": {
   "display_name": "Python 3",
   "language": "python",
   "name": "python3"
  },
  "language_info": {
   "codemirror_mode": {
    "name": "ipython",
    "version": 3
   },
   "file_extension": ".py",
   "mimetype": "text/x-python",
   "name": "python",
   "nbconvert_exporter": "python",
   "pygments_lexer": "ipython3",
   "version": "3.10.11"
  },
  "orig_nbformat": 4
 },
 "nbformat": 4,
 "nbformat_minor": 2
}
